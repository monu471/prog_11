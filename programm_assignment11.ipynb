{
 "cells": [
  {
   "cell_type": "code",
   "execution_count": null,
   "id": "cbd15219",
   "metadata": {},
   "outputs": [],
   "source": [
    "# Write a Python program to find words which are greater than given length k?\n",
    "k = int(input(\"enter a length\"))\n",
    "l = [\"kldlkd\",\"vf\",\"jffaj\",\"fhf\",\"ncmcnnc\",\"jf\",\"akjjfk\"]\n",
    "for i in l:\n",
    "    if len(i) > k:\n",
    "        print(i)"
   ]
  },
  {
   "cell_type": "code",
   "execution_count": null,
   "id": "311bd953",
   "metadata": {},
   "outputs": [],
   "source": [
    "# Write a Python program for removing i-th character from a string?\n",
    "b = int(input(\"enter a number \"))\n",
    "a = \"mynameismonu\"\n",
    "if b<len(a):\n",
    "    c = list(a)\n",
    "    print(c.pop(b))\n",
    "    \n",
    "        \n"
   ]
  },
  {
   "cell_type": "code",
   "execution_count": null,
   "id": "1e519e39",
   "metadata": {},
   "outputs": [],
   "source": [
    "# Write a Python program to split and join a string?\n",
    "a = \"split and join a string\"\n",
    "b = a.split()\n",
    "concat = \" \"\n",
    "for i in b:\n",
    "    concat+= i\n",
    "print(concat)\n",
    "    \n"
   ]
  },
  {
   "cell_type": "code",
   "execution_count": null,
   "id": "f3087c98",
   "metadata": {},
   "outputs": [],
   "source": [
    "# Write a Python to check if a given string is binary string or not?\n",
    "a = input(\"enter a string \\n\")\n",
    "s = {1,0}\n",
    "for i in set(a):\n",
    "    if i!=1 or i!= 0 or i != s:\n",
    "        print(\"non binary string\")\n",
    "        break\n",
    "    else: \n",
    "        print(\"binary string\")"
   ]
  },
  {
   "cell_type": "code",
   "execution_count": null,
   "id": "21fffbc1",
   "metadata": {},
   "outputs": [],
   "source": [
    "# Write a Python program to find uncommon words from two Strings?\n",
    "a = \"my name is monu\"\n",
    "b = \"what is your name\"\n",
    "l = []\n",
    "for i in b:\n",
    "    if i in a:\n",
    "        pass\n",
    "    else:\n",
    "        print(l.append(i))\n"
   ]
  },
  {
   "cell_type": "code",
   "execution_count": null,
   "id": "b69b7a08",
   "metadata": {},
   "outputs": [],
   "source": [
    "#  Write a Python to find all duplicate characters in string?\n",
    "a = \"jdjdjs\"\n",
    "b = \"vbdbsjf\"\n",
    "l = []\n",
    "for i in a :\n",
    "    if i in b:\n",
    "        l.append(i)\n",
    "print(set(l))\n",
    "    \n",
    "    "
   ]
  },
  {
   "cell_type": "code",
   "execution_count": null,
   "id": "0216f27d",
   "metadata": {},
   "outputs": [],
   "source": [
    "# Write a Python Program to check if a string contains any special character?\n",
    "a = input(\"enter a string\\n\")\n",
    "b = ['@','#',\"$\",\"&\",\"*\",\"()\"]\n",
    "for i in a:\n",
    "    if i in b:\n",
    "        print(\"special character present\",i)\n",
    "else:\n",
    "    print(\"no special charecter\")"
   ]
  },
  {
   "cell_type": "code",
   "execution_count": null,
   "id": "9622da4a",
   "metadata": {},
   "outputs": [],
   "source": []
  }
 ],
 "metadata": {
  "kernelspec": {
   "display_name": "Python 3 (ipykernel)",
   "language": "python",
   "name": "python3"
  },
  "language_info": {
   "codemirror_mode": {
    "name": "ipython",
    "version": 3
   },
   "file_extension": ".py",
   "mimetype": "text/x-python",
   "name": "python",
   "nbconvert_exporter": "python",
   "pygments_lexer": "ipython3",
   "version": "3.9.12"
  }
 },
 "nbformat": 4,
 "nbformat_minor": 5
}
